{
 "cells": [
  {
   "cell_type": "code",
   "execution_count": 90,
   "metadata": {},
   "outputs": [],
   "source": [
    "import numpy as np\n",
    "import math\n",
    "import matplotlib.pyplot as plt"
   ]
  },
  {
   "cell_type": "code",
   "execution_count": 91,
   "metadata": {},
   "outputs": [
    {
     "data": {
      "image/png": "[encoded data removed]",
      "text/plain": [
       "<Figure size 432x288 with 1 Axes>"
      ]
     },
     "metadata": {},
     "output_type": "display_data"
    }
   ],
   "source": [
    "#x=[1.0,1.3,1.6,1.9,2.2]\n",
    "#y=[0.7651977,0.6200860,0.4554022,0.28181816,0.1103623]\n",
    "y=[3,4,4,6,7]\n",
    "x=[4,5,6,9,3]\n",
    "\n",
    "plt.plot(x,y,'*')\n",
    "plt.show()"
   ]
  },
  {
   "cell_type": "code",
   "execution_count": 92,
   "metadata": {},
   "outputs": [
    {
     "name": "stdout",
     "output_type": "stream",
     "text": [
      "[[ 3.          0.          0.          0.          0.        ]\n",
      " [ 4.          1.          0.          0.          0.        ]\n",
      " [ 4.          0.         -0.5         0.          0.        ]\n",
      " [ 6.          0.66666667  0.16666667  0.13333333  0.        ]\n",
      " [ 7.         -0.16666667  0.27777778 -0.05555556  0.18888889]]\n"
     ]
    }
   ],
   "source": [
    "a=np.zeros((5,5))\n",
    "for i in range(0,5):\n",
    "    a[i][0]=y[i]\n",
    "\n",
    "for i in range(1,i+1):\n",
    "    for j in range(1,i+1):\n",
    "        a[i][j]=(a[i][j-1]-a[i-1][j-1])/(x[i]-x[i-j])\n",
    "print(a)"
   ]
  },
  {
   "cell_type": "code",
   "execution_count": 93,
   "metadata": {},
   "outputs": [
    {
     "name": "stdout",
     "output_type": "stream",
     "text": [
      "41.91861333333334\n"
     ]
    }
   ],
   "source": [
    "def Newtonmethod(x,y,u):\n",
    "        sum=0\n",
    "        for i in range(1,5):\n",
    "            prod=1.0\n",
    "            for j in range(0,i):\n",
    "                prod=prod*(u-x[j])\n",
    "            sum=sum+a[i][i]*prod\n",
    "        \n",
    "        return sum+a[0][0]\n",
    "    \n",
    "print(Newtonmethod(x,y,1.6))"
   ]
  },
  {
   "cell_type": "code",
   "execution_count": 94,
   "metadata": {},
   "outputs": [],
   "source": [
    "valx=np.linspace(min(x),max(x),100)\n",
    "yval=[]\n",
    "\n",
    "\n",
    "for i in range(0,100):\n",
    "    yval.append(Newtonmethod(x,y,valx[i]))\n",
    "#print(y)\n",
    "\n",
    "\n"
   ]
  },
  {
   "cell_type": "code",
   "execution_count": 95,
   "metadata": {},
   "outputs": [
    {
     "data": {
      "image/png": "[encoded data removed]",
      "text/plain": [
       "<Figure size 432x288 with 1 Axes>"
      ]
     },
     "metadata": {},
     "output_type": "display_data"
    }
   ],
   "source": [
    "plt.plot(x,y,'*')\n",
    "plt.plot(valx,yval) \n",
    "plt.show()\n",
    "    "
   ]
  },
  {
   "cell_type": "markdown",
   "metadata": {},
   "source": [
    "Otro Método con las difererncias divididas"
   ]
  },
  {
   "cell_type": "code",
   "execution_count": 129,
   "metadata": {},
   "outputs": [],
   "source": [
    "import numpy as np\n",
    "import math\n",
    "import matplotlib.pyplot as plt"
   ]
  },
  {
   "cell_type": "code",
   "execution_count": 130,
   "metadata": {},
   "outputs": [
    {
     "name": "stdout",
     "output_type": "stream",
     "text": [
      "[[0. 0. 0. 0. 0.]\n",
      " [0. 0. 0. 0. 0.]\n",
      " [0. 0. 0. 0. 0.]\n",
      " [0. 0. 0. 0. 0.]\n",
      " [0. 0. 0. 0. 0.]]\n"
     ]
    }
   ],
   "source": [
    "x_list = [1,1.3,1.6,1.9,2.2]\n",
    "y_list = [0.7651977,0.6200860,0.4554022,0.28181861,0.1103623]\n",
    "\n",
    "n = len(x_list)\n",
    "\n",
    "T = np.zeros((n,n))\n",
    "print(T)"
   ]
  },
  {
   "cell_type": "code",
   "execution_count": 131,
   "metadata": {},
   "outputs": [
    {
     "name": "stdout",
     "output_type": "stream",
     "text": [
      "[[ 0.7651977  -0.48370567 -0.10873389  0.06587846  0.0018249 ]\n",
      " [ 0.          0.620086   -0.548946   -0.04944328  0.06806833]\n",
      " [ 0.          0.          0.4554022  -0.57861197  0.01181822]\n",
      " [ 0.          0.          0.          0.28181861 -0.57152103]\n",
      " [ 0.          0.          0.          0.          0.1103623 ]]\n"
     ]
    }
   ],
   "source": [
    "#Diagonal\n",
    "for i in range (0,n): #filas\n",
    "    for j in range(0,n): #columnas\n",
    "        if i == j:\n",
    "            T[i][j] = y_list[j]\n",
    "        else:\n",
    "            continue\n",
    "\n",
    "#Diagonales no principales\n",
    "for k in range(1,n):\n",
    "    for i in range(0,n-1):  \n",
    "        for j in range(1,n):\n",
    "            if j != i and j == i + k:\n",
    "                T[i][j] = (T[i+1][j] - T[i][j-1]) / (x_list[j] - x_list[i])\n",
    "\n",
    "print(T)"
   ]
  },
  {
   "cell_type": "code",
   "execution_count": 132,
   "metadata": {},
   "outputs": [],
   "source": [
    "#Polinomio interpolante\n",
    "\n",
    "def IterpNewton(x_list,y_list,x):\n",
    "    #if x_list[0]<=x<=x_list[n]:\n",
    "        sum=0\n",
    "        for i in range(1,n):\n",
    "            prod=1.0\n",
    "            for j in range(0,i):\n",
    "                prod=prod*(x-x_list[j])\n",
    "            sum=sum+T[0][i]*prod\n",
    "        \n",
    "        return sum+T[0][0] \n",
    "        \n"
   ]
  },
  {
   "cell_type": "code",
   "execution_count": 133,
   "metadata": {},
   "outputs": [],
   "source": [
    "valx=np.linspace(min(x_list),max(x_list),100)\n",
    "yval=[]\n",
    "\n",
    "\n",
    "for i in range(0,100):\n",
    "    yval.append(IterpNewton(x_list,y_list,valx[i]))"
   ]
  },
  {
   "cell_type": "code",
   "execution_count": 134,
   "metadata": {},
   "outputs": [
    {
     "data": {
      "image/png": "[encoded data removed]",
      "text/plain": [
       "<Figure size 432x288 with 1 Axes>"
      ]
     },
     "metadata": {
      "needs_background": "light"
     },
     "output_type": "display_data"
    }
   ],
   "source": [
    "plt.plot(x_list,y_list,'*')\n",
    "plt.plot(valx,yval) \n",
    "plt.show()"
   ]
  },
  {
   "cell_type": "code",
   "execution_count": null,
   "metadata": {},
   "outputs": [],
   "source": []
  },
  {
   "cell_type": "code",
   "execution_count": null,
   "metadata": {},
   "outputs": [],
   "source": []
  }
 ],
 "metadata": {
  "kernelspec": {
   "display_name": "Python 3",
   "language": "python",
   "name": "python3"
  },
  "language_info": {
   "codemirror_mode": {
    "name": "ipython",
    "version": 3
   },
   "file_extension": ".py",
   "mimetype": "text/x-python",
   "name": "python",
   "nbconvert_exporter": "python",
   "pygments_lexer": "ipython3",
   "version": "3.6.6"
  }
 },
 "nbformat": 4,
 "nbformat_minor": 2
}
