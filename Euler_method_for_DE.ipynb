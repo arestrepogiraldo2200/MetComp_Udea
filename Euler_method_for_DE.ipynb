{
 "cells": [
  {
   "cell_type": "code",
   "execution_count": 1,
   "metadata": {},
   "outputs": [],
   "source": [
    "import matplotlib.pyplot as plt\n",
    "import numpy as np"
   ]
  },
  {
   "cell_type": "code",
   "execution_count": 52,
   "metadata": {},
   "outputs": [],
   "source": [
    "#Condiciones iniciales\n",
    "y0 = [1.0,0.0]\n",
    "#Intervalo de soluciòn\n",
    "t_ini = 0.0\n",
    "t_end = 2*np.pi\n",
    "N = 100    #Numero de intervalos\n",
    "h = (t_end-t_ini)/N"
   ]
  },
  {
   "cell_type": "code",
   "execution_count": 53,
   "metadata": {},
   "outputs": [],
   "source": [
    "def f(theta,Omega):\n",
    "    return [Omega, -1*np.sin(theta)]\n",
    "\n",
    "def Euler(func,y0,t):\n",
    "    sol = np.zeros((len(t),2))\n",
    "    sol[0][0] = y0[0]\n",
    "    sol[0][1] = y0[1]\n",
    "    \n",
    "    for i in range(1,len(t)):\n",
    "        theta_prev = sol[i-1][0]\n",
    "        Omega_prev = sol[i-1][1]\n",
    "        theta = theta_prev + h*func(theta_prev,Omega_prev)[0]\n",
    "        Omega = Omega_prev + h*func(theta_prev,Omega_prev)[1]\n",
    "        sol[i][0] = theta\n",
    "        sol[i][1] = Omega\n",
    "        \n",
    "        \n",
    "    return sol\n"
   ]
  },
  {
   "cell_type": "code",
   "execution_count": 54,
   "metadata": {},
   "outputs": [],
   "source": [
    "t_array = []\n",
    "for i in np.arange(0,t_end,h):\n",
    "    t_array.append(i)"
   ]
  },
  {
   "cell_type": "code",
   "execution_count": 55,
   "metadata": {},
   "outputs": [
    {
     "name": "stdout",
     "output_type": "stream",
     "text": [
      "[[ 1.          0.        ]\n",
      " [ 1.         -0.05287118]\n",
      " [ 0.99667801 -0.10574236]\n",
      " [ 0.99003402 -0.15850048]\n",
      " [ 0.98007514 -0.21103071]\n",
      " [ 0.96681569 -0.26321503]\n",
      " [ 0.9502774  -0.31493076]\n",
      " [ 0.93048972 -0.3660493 ]\n",
      " [ 0.90749016 -0.41643496]\n",
      " [ 0.88132478 -0.465944  ]\n",
      " [ 0.85204866 -0.51442394]\n",
      " [ 0.81972645 -0.56171314]\n",
      " [ 0.78443297 -0.60764066]\n",
      " [ 0.74625378 -0.65202658]\n",
      " [ 0.70528574 -0.69468268]\n",
      " [ 0.66163754 -0.73541352]\n",
      " [ 0.61543015 -0.77401802]\n",
      " [ 0.56679716 -0.81029146]\n",
      " [ 0.51588505 -0.84402795]\n",
      " [ 0.46285321 -0.87502321]\n",
      " [ 0.40787388 -0.90307782]\n",
      " [ 0.35113182 -0.9280006 ]\n",
      " [ 0.29282383 -0.9496123 ]\n",
      " [ 0.23315793 -0.96774915]\n",
      " [ 0.17235245 -0.98226652]\n",
      " [ 0.11063483 -0.99304221]\n",
      " [ 0.04824015 -0.99997943]\n",
      " [-0.01459042 -1.00300927]\n",
      " [-0.07761135 -1.00209256]\n",
      " [-0.14057468 -0.99722099]\n",
      " [-0.20323192 -0.98841749]\n",
      " [-0.26533602 -0.97573577]\n",
      " [-0.32664331 -0.95925915]\n",
      " [-0.38691534 -0.93909857]\n",
      " [-0.44592065 -0.91539   ]\n",
      " [-0.5034363  -0.88829133]\n",
      " [-0.55924929 -0.85797884]\n",
      " [-0.61315769 -0.8246434 ]\n",
      " [-0.66497156 -0.78848663]\n",
      " [-0.71451364 -0.74971707]\n",
      " [-0.76161975 -0.70854649]\n",
      " [-0.80613904 -0.66518657]\n",
      " [-0.84793394 -0.61984587]\n",
      " [-0.88688001 -0.57272731]\n",
      " [-0.92286553 -0.52402607]\n",
      " [-0.95579105 -0.47392808]\n",
      " [-0.98556883 -0.42260888]\n",
      " [-1.01212213 -0.3702331 ]\n",
      " [-1.03538457 -0.31695429]\n",
      " [-1.05529939 -0.26291521]\n",
      " [-1.07181884 -0.20824849]\n",
      " [-1.08490348 -0.15307758]\n",
      " [-1.09452163 -0.09751799]\n",
      " [-1.10064886 -0.04167876]\n",
      " [-1.10326762  0.01433593]\n",
      " [-1.10236686  0.07042497]\n",
      " [-1.09794193  0.12648848]\n",
      " [-1.08999443  0.18242592]\n",
      " [-1.07853227  0.23813417]\n",
      " [-1.06356986  0.29350569]\n",
      " [-1.04512835  0.3484267 ]\n",
      " [-1.02323606  0.40277556]\n",
      " [-0.99792892  0.45642122]\n",
      " [-0.96925113  0.50922198]\n",
      " [-0.93725577  0.56102446]\n",
      " [-0.90200556  0.61166295]\n",
      " [-0.86357365  0.66095906]\n",
      " [-0.82204436  0.70872191]\n",
      " [-0.77751405  0.75474869]\n",
      " [-0.73009179  0.79882586]\n",
      " [-0.67990008  0.84073082]\n",
      " [-0.62707541  0.88023416]\n",
      " [-0.57176867  0.91710258]\n",
      " [-0.51414541  0.95110217]\n",
      " [-0.4543859   0.98200231]\n",
      " [-0.39268487  1.00957987]\n",
      " [-0.3292511   1.03362376]\n",
      " [-0.2643066   1.05393946]\n",
      " [-0.19808563  1.07035365]\n",
      " [-0.13083333  1.08271851]\n",
      " [-0.06280412  1.09091558]\n",
      " [ 0.00574013  1.09485908]\n",
      " [ 0.07453215  1.09449842]\n",
      " [ 0.14330151  1.08981976]\n",
      " [ 0.21177691  1.08084665]\n",
      " [ 0.27968851  1.06763955]\n",
      " [ 0.34677028  1.05029442]\n",
      " [ 0.41276222  1.02894026]\n",
      " [ 0.47741245  1.00373582]\n",
      " [ 0.54047903  0.97486568]\n",
      " [ 0.60173165  0.94253575]\n",
      " [ 0.66095291  0.90696848]\n",
      " [ 0.71793942  0.86839793]\n",
      " [ 0.77250248  0.82706499]\n",
      " [ 0.8244685   0.78321278]\n",
      " [ 0.87367921  0.73708245]\n",
      " [ 0.91999147  0.6889095 ]\n",
      " [ 0.96327693  0.6389207 ]\n",
      " [ 1.0034215   0.58733157]\n",
      " [ 1.04032463  0.53434455]]\n"
     ]
    }
   ],
   "source": [
    "print(Euler(f,y0,t_array))\n",
    "sol = Euler(f,y0,t_array)"
   ]
  },
  {
   "cell_type": "code",
   "execution_count": 56,
   "metadata": {},
   "outputs": [
    {
     "data": {
      "text/plain": [
       "<function matplotlib.pyplot.show(*args, **kw)>"
      ]
     },
     "execution_count": 56,
     "metadata": {},
     "output_type": "execute_result"
    },
    {
     "data": {
      "image/png": "[encoded data removed]",
      "text/plain": [
       "<Figure size 432x288 with 1 Axes>"
      ]
     },
     "metadata": {
      "needs_background": "light"
     },
     "output_type": "display_data"
    }
   ],
   "source": [
    "fig = plt.figure()\n",
    "ax = plt.axes()\n",
    "ax.plot(t_array,sol[:,0])\n",
    "ax.plot(t_array,sol[:,1])\n",
    "plt.show"
   ]
  },
  {
   "cell_type": "code",
   "execution_count": null,
   "metadata": {},
   "outputs": [],
   "source": []
  },
  {
   "cell_type": "code",
   "execution_count": null,
   "metadata": {},
   "outputs": [],
   "source": []
  },
  {
   "cell_type": "code",
   "execution_count": null,
   "metadata": {},
   "outputs": [],
   "source": []
  }
 ],
 "metadata": {
  "kernelspec": {
   "display_name": "Python 3",
   "language": "python",
   "name": "python3"
  },
  "language_info": {
   "codemirror_mode": {
    "name": "ipython",
    "version": 3
   },
   "file_extension": ".py",
   "mimetype": "text/x-python",
   "name": "python",
   "nbconvert_exporter": "python",
   "pygments_lexer": "ipython3",
   "version": "3.6.8"
  }
 },
 "nbformat": 4,
 "nbformat_minor": 2
}
