{
 "cells": [
  {
   "cell_type": "code",
   "execution_count": 10,
   "metadata": {},
   "outputs": [],
   "source": [
    "import matplotlib.pyplot as plt\n",
    "import numpy as np"
   ]
  },
  {
   "cell_type": "code",
   "execution_count": 11,
   "metadata": {},
   "outputs": [],
   "source": [
    "#cond iniciales\n",
    "y0 = 0.5\n",
    "#intervalo de sol\n",
    "t_ini = 0.0\n",
    "t_end = 2.0\n",
    "\n",
    "#puntos en donde estarà la soluciòn\n",
    "N = 10\n",
    "h = (t_end-t_ini)/N\n",
    "\n",
    "\n",
    "def f(t,y):\n",
    "    return y-t**2+1.0"
   ]
  },
  {
   "cell_type": "code",
   "execution_count": 12,
   "metadata": {},
   "outputs": [
    {
     "name": "stdout",
     "output_type": "stream",
     "text": [
      "[0.0, 0.2, 0.4, 0.6000000000000001, 0.8, 1.0, 1.2000000000000002, 1.4000000000000001, 1.6, 1.8, 2.0]\n"
     ]
    }
   ],
   "source": [
    "#vector de tiempo\n",
    "t_array = []\n",
    "for i in range(0,N+1):\n",
    "    ti = t_ini + h*i\n",
    "    t_array.append(ti)\n",
    "print(t_array)"
   ]
  },
  {
   "cell_type": "code",
   "execution_count": 15,
   "metadata": {},
   "outputs": [],
   "source": [
    "def RungeKutta4(f,t,y):\n",
    "  \n",
    "    k1 = f(t,y)\n",
    "    k2 = f(t+0.5*h,y+0.5*h*k1)\n",
    "    k3 = f(t+0.5*h,y+0.5*h*k2)\n",
    "    k4 = f(t+h,y+h*k3)\n",
    "    \n",
    "    value = y + h/6*(k1+2*k2+2*k3+k4)\n",
    "    \n",
    "    return value"
   ]
  },
  {
   "cell_type": "code",
   "execution_count": 18,
   "metadata": {},
   "outputs": [
    {
     "name": "stdout",
     "output_type": "stream",
     "text": [
      "[[0.         0.5       ]\n",
      " [0.2        0.82929333]\n",
      " [0.4        1.21407621]\n",
      " [0.6        1.64892202]\n",
      " [0.8        2.12720268]\n",
      " [1.         2.64082269]\n",
      " [1.2        3.17989417]\n",
      " [1.4        3.73234007]\n",
      " [1.6        4.2834095 ]\n",
      " [1.8        4.81508569]\n",
      " [2.         5.305363  ]]\n"
     ]
    }
   ],
   "source": [
    "sol = np.zeros((N+1,2))\n",
    "sol[0][0] = t_array[0]\n",
    "sol[0][1] = y0\n",
    "\n",
    "for i in range(1,N+1):\n",
    "    sol[i][0] = t_array[i]\n",
    "    sol[i][1] = RungeKutta4(f,sol[i-1][0],sol[i-1][1])\n",
    "    \n",
    "print(sol)\n"
   ]
  },
  {
   "cell_type": "code",
   "execution_count": null,
   "metadata": {},
   "outputs": [],
   "source": []
  }
 ],
 "metadata": {
  "kernelspec": {
   "display_name": "Python 3",
   "language": "python",
   "name": "python3"
  },
  "language_info": {
   "codemirror_mode": {
    "name": "ipython",
    "version": 3
   },
   "file_extension": ".py",
   "mimetype": "text/x-python",
   "name": "python",
   "nbconvert_exporter": "python",
   "pygments_lexer": "ipython3",
   "version": "3.6.8"
  }
 },
 "nbformat": 4,
 "nbformat_minor": 2
}
