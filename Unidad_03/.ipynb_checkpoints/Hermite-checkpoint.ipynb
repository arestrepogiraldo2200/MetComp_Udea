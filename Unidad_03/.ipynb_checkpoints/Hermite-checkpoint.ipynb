{
 "cells": [
  {
   "cell_type": "markdown",
   "metadata": {},
   "source": [
    "# Interpolación de Hermite"
   ]
  },
  {
   "cell_type": "code",
   "execution_count": 1,
   "metadata": {
    "collapsed": true
   },
   "outputs": [],
   "source": [
    "import numpy as np\n",
    "import matplotlib.pyplot as plt"
   ]
  },
  {
   "cell_type": "code",
   "execution_count": 34,
   "metadata": {},
   "outputs": [],
   "source": [
    "x_list=[1.3,1.6,1.9]\n",
    "y_list=[0.6200860,0.4554022,0.28181816]\n",
    "dydx_list=[-0.5220232,-0.5698959,-0.5811571]"
   ]
  },
  {
   "cell_type": "code",
   "execution_count": 35,
   "metadata": {},
   "outputs": [
    {
     "name": "stdout",
     "output_type": "stream",
     "text": [
      "[ 1.3  1.3  1.6  1.6  1.9  1.9]\n"
     ]
    }
   ],
   "source": [
    "z=np.zeros(2*(len(x_list)))\n",
    "for i in range(0,len(x_list)):\n",
    "    z[2*i]=x_list[i]\n",
    "    z[2*i+1]=x_list[i]\n",
    "print(z)"
   ]
  },
  {
   "cell_type": "code",
   "execution_count": 36,
   "metadata": {},
   "outputs": [
    {
     "name": "stdout",
     "output_type": "stream",
     "text": [
      "[[ 0.620086    0.          0.          0.          0.          0.        ]\n",
      " [ 0.620086   -0.5220232   0.          0.          0.          0.        ]\n",
      " [ 0.4554022  -0.548946    0.          0.          0.          0.        ]\n",
      " [ 0.4554022  -0.5698959   0.          0.          0.          0.        ]\n",
      " [ 0.28181816 -0.57861347  0.          0.          0.          0.        ]\n",
      " [ 0.28181816 -0.5811571   0.          0.          0.          0.        ]]\n"
     ]
    }
   ],
   "source": [
    "Q=np.zeros((2*len(x_list),2*len(x_list)))\n",
    "for i in range(0,len(x_list)):\n",
    "    Q[2*i][0]=y_list[i]\n",
    "    Q[2*i+1][0]=y_list[i]\n",
    "    Q[2*i+1][1]=dydx_list[i]\n",
    "    \n",
    "    if i!=0:\n",
    "         Q[2*i][1]=(Q[2*i-1][0]-Q[2*i][0])/(z[2*i-1]-z[2*i])\n",
    "print(Q)"
   ]
  },
  {
   "cell_type": "code",
   "execution_count": 37,
   "metadata": {},
   "outputs": [
    {
     "name": "stdout",
     "output_type": "stream",
     "text": [
      "[[ 0.620086    0.          0.          0.          0.          0.        ]\n",
      " [ 0.620086   -0.5220232   0.          0.          0.          0.        ]\n",
      " [ 0.4554022  -0.548946   -0.08974267  0.          0.          0.        ]\n",
      " [ 0.4554022  -0.5698959  -0.069833    0.06636556  0.          0.        ]\n",
      " [ 0.28181816 -0.57861347 -0.02905856  0.06795741  0.00265309  0.        ]\n",
      " [ 0.28181816 -0.5811571  -0.00847878  0.06859926  0.00106975 -0.00263889]]\n"
     ]
    }
   ],
   "source": [
    "for i in range(2,len(z)):\n",
    "    for j in range(2,i+1):\n",
    "        Q[i][j]=(Q[i][j-1]-Q[i-1][j-1])/(z[i]-z[i-j])\n",
    "print(Q)"
   ]
  },
  {
   "cell_type": "code",
   "execution_count": null,
   "metadata": {
    "collapsed": true
   },
   "outputs": [],
   "source": [
    "def Hermite(,,x):\n",
    "    sum=0\n",
    "    for i in range(1,len(x_list)):\n",
    "        prod=1\n",
    "        for j in range(0,i):\n",
    "                prod=prod*(x-x_list[j])\n",
    "        sum=sum+f[i][i]*prod\n",
    "    return sum\n",
    "                \n",
    "print(f)"
   ]
  },
  {
   "cell_type": "markdown",
   "metadata": {},
   "source": [
    "# Versión 2"
   ]
  },
  {
   "cell_type": "code",
   "execution_count": 136,
   "metadata": {},
   "outputs": [],
   "source": [
    "import numpy as np\n",
    "import matplotlib.pyplot as plt"
   ]
  },
  {
   "cell_type": "code",
   "execution_count": 137,
   "metadata": {},
   "outputs": [],
   "source": [
    "x_list = [1.3,1.6,1.9]\n",
    "y_list = [0.6200860,0.4554022,0.2818186]\n",
    "dydx_list = [-0.5220232,-0.5698959,-0.5811571]"
   ]
  },
  {
   "cell_type": "code",
   "execution_count": 138,
   "metadata": {},
   "outputs": [],
   "source": [
    "\"\"\"\n",
    "def DiferenciaDividida(x_list,y_list,dydx_list):\n",
    "\n",
    "    \n",
    "    s = len(x_list)\n",
    "    T = np.zeros((2*s,2*s))\n",
    "    \n",
    "    Z = np.zeros(2*s)\n",
    "    \n",
    "    for i in range(0,len(Z)):\n",
    "        Z[i] = x_list[int(i/2)]  #Procedimiento llamado casting\n",
    "    \n",
    "    for i in range(0,2*s):\n",
    "        for j in range(0,2*s):\n",
    "            if i == j:\n",
    "                T[i][j]= y_list[int(i/2)] \n",
    "\n",
    "\n",
    "    #Diagonales no principales\n",
    "    for k in range(1,2*s):\n",
    "        for i in range(0,2*s-1):  \n",
    "            for j in range(1,2*s):\n",
    "                \n",
    "                if j != i and j == i + k and Z[j] != Z[i]:\n",
    "                    T[i][j] = (T[i+1][j] - T[i][j-1]) / (Z[j] - Z[i])\n",
    "                    \n",
    "                elif j != i and j == i + k and Z[j] == Z[i]:\n",
    "                    T[i][j] = dydx_list[int(i/2)]\n",
    "                    \n",
    "    return T\n",
    "\"\"\"\n",
    "\n",
    "s = len(x_list)\n",
    "T = np.zeros((2*s,2*s))\n",
    "  \n",
    "Z = np.zeros(2*s)\n",
    "    \n",
    "for i in range(0,len(Z)):\n",
    "    Z[i] = x_list[int(i/2)]  #Procedimiento llamado casting\n",
    "    \n",
    "for i in range(0,2*s):\n",
    "    for j in range(0,2*s):\n",
    "        if i == j:\n",
    "            T[i][j]= y_list[int(i/2)] \n",
    "\n",
    "\n",
    "#Diagonales no principales\n",
    "for k in range(1,2*s):\n",
    "    for i in range(0,2*s-1):  \n",
    "        for j in range(1,2*s):\n",
    "                \n",
    "            if j != i and j == i + k and Z[j] != Z[i]:\n",
    "                T[i][j] = (T[i+1][j] - T[i][j-1]) / (Z[j] - Z[i])\n",
    "                    \n",
    "            elif j != i and j == i + k and Z[j] == Z[i]:\n",
    "                T[i][j] = dydx_list[int(i/2)]\n",
    "\n"
   ]
  },
  {
   "cell_type": "code",
   "execution_count": 139,
   "metadata": {},
   "outputs": [
    {
     "name": "stdout",
     "output_type": "stream",
     "text": [
      "[[ 0.620086  -0.5220232 -0.0897427  0.0663656  0.0026667 -0.0027747]\n",
      " [ 0.         0.620086  -0.548946  -0.069833   0.0679656  0.0010019]\n",
      " [ 0.         0.         0.4554022 -0.5698959 -0.0290537  0.0685667]\n",
      " [ 0.         0.         0.         0.4554022 -0.578612  -0.0084837]\n",
      " [ 0.         0.         0.         0.         0.2818186 -0.5811571]\n",
      " [ 0.         0.         0.         0.         0.         0.2818186]]\n"
     ]
    }
   ],
   "source": [
    "np.set_printoptions(precision=7)\n",
    "print(T)"
   ]
  },
  {
   "cell_type": "code",
   "execution_count": 140,
   "metadata": {},
   "outputs": [],
   "source": [
    "def Hermite(x_list,y_list,x,T):\n",
    "    sum = 0\n",
    "    for i in range(1,2*s):\n",
    "        prod = 1.0\n",
    "        for j in range(0,i):\n",
    "            prod = prod*(x - Z[j])\n",
    "            \n",
    "        sum = sum + T[0][i]*prod\n",
    "        \n",
    "    return sum+T[0][0]\n",
    "\n"
   ]
  },
  {
   "cell_type": "code",
   "execution_count": 141,
   "metadata": {},
   "outputs": [],
   "source": [
    "valx=np.linspace(min(x_list),max(x_list),10)\n",
    "yval=[]\n",
    "\n",
    "\n",
    "for i in range(0,10):\n",
    "    yval.append(Hermite(x_list,y_list,valx,T))"
   ]
  },
  {
   "cell_type": "code",
   "execution_count": 142,
   "metadata": {},
   "outputs": [
    {
     "data": {
      "image/png": "[encoded data removed]",
      "text/plain": [
       "<Figure size 432x288 with 1 Axes>"
      ]
     },
     "metadata": {
      "needs_background": "light"
     },
     "output_type": "display_data"
    }
   ],
   "source": [
    "plt.plot(x_list,y_list,'*')\n",
    "plt.plot(valx,yval) \n",
    "plt.show()"
   ]
  },
  {
   "cell_type": "code",
   "execution_count": null,
   "metadata": {},
   "outputs": [],
   "source": []
  },
  {
   "cell_type": "code",
   "execution_count": null,
   "metadata": {},
   "outputs": [],
   "source": []
  }
 ],
 "metadata": {
  "kernelspec": {
   "display_name": "Python 3",
   "language": "python",
   "name": "python3"
  },
  "language_info": {
   "codemirror_mode": {
    "name": "ipython",
    "version": 3
   },
   "file_extension": ".py",
   "mimetype": "text/x-python",
   "name": "python",
   "nbconvert_exporter": "python",
   "pygments_lexer": "ipython3",
   "version": "3.6.6"
  }
 },
 "nbformat": 4,
 "nbformat_minor": 2
}
