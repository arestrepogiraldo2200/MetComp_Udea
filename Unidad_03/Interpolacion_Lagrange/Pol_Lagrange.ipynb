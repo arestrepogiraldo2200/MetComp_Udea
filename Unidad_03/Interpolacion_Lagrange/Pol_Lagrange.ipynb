{
 "cells": [
  {
   "cell_type": "markdown",
   "metadata": {},
   "source": [
    "# Interpolación de Lagrange\n"
   ]
  },
  {
   "cell_type": "code",
   "execution_count": 35,
   "metadata": {},
   "outputs": [],
   "source": [
    "import math\n",
    "import numpy as np\n",
    "import matplotlib.pyplot as plt"
   ]
  },
  {
   "cell_type": "code",
   "execution_count": 36,
   "metadata": {},
   "outputs": [],
   "source": [
    "#x_list=[1.0,2.0,3.0]\n",
    "#y_list=[1.0,2.0,3.0]"
   ]
  },
  {
   "cell_type": "code",
   "execution_count": 37,
   "metadata": {},
   "outputs": [],
   "source": [
    "datos=np.loadtxt(\"stellar_radius.dat\")\n",
    "x=[]\n",
    "y=[]\n",
    "\n",
    "for i in range(0,datos.shape[0]):\n",
    "    x.append(datos[i][0])\n",
    "    y.append(datos[i][1])\n",
    "    \n",
    "#Ordenar dos listas\n",
    "\n",
    "\n",
    "x_list=[]\n",
    "y_list=[]\n",
    "\n",
    "for i in range(0,len(x)):\n",
    "    a=min(x)\n",
    "    x_list.append(a)\n",
    "        \n",
    "    for j in range(0,len(x)):\n",
    "        if x[j]==a:\n",
    "            y_list.append(y[j])\n",
    "            y.remove(y[j])\n",
    "        \n",
    "    x.remove(a)\n",
    "    \n",
    "#print(x_list)\n",
    "#print(y_list)"
   ]
  },
  {
   "cell_type": "code",
   "execution_count": 38,
   "metadata": {},
   "outputs": [
    {
     "data": {
      "image/png": "[encoded data removed]",
      "text/plain": [
       "<Figure size 432x288 with 1 Axes>"
      ]
     },
     "metadata": {
      "needs_background": "light"
     },
     "output_type": "display_data"
    }
   ],
   "source": [
    "fig=plt.figure()\n",
    "ax=plt.axes()\n",
    "ax.plot(x_list,y_list,'*')\n",
    "ax.set_xscale(\"log\")\n",
    "plt.show()"
   ]
  },
  {
   "cell_type": "code",
   "execution_count": 47,
   "metadata": {},
   "outputs": [],
   "source": [
    "def PolyLagrange(x_list,y_list,x):\n",
    "    sum=0\n",
    "    for i in range(0,len(x_list)):\n",
    "        prod=1.0\n",
    "        for j in range(0,len(x_list)):\n",
    "            if j!=i:\n",
    "                prod=prod*((x-x_list[j])/(x_list[i]-x_list[j]))\n",
    "        sum=sum+y_list[i]*prod\n",
    "    return sum\n",
    "\n"
   ]
  },
  {
   "cell_type": "code",
   "execution_count": 51,
   "metadata": {},
   "outputs": [],
   "source": [
    "x_array=np.linspace(min(x_list),max(x_list),5000)\n",
    "y_array=[]"
   ]
  },
  {
   "cell_type": "code",
   "execution_count": 52,
   "metadata": {},
   "outputs": [],
   "source": [
    "for i in range(0,len(x_array)):\n",
    "    y_array.append(PolyLagrange(x_list,y_list,x_array[i]))"
   ]
  },
  {
   "cell_type": "code",
   "execution_count": 53,
   "metadata": {},
   "outputs": [
    {
     "data": {
      "image/png": "[encoded data removed]",
      "text/plain": [
       "<Figure size 432x288 with 1 Axes>"
      ]
     },
     "metadata": {
      "needs_background": "light"
     },
     "output_type": "display_data"
    }
   ],
   "source": [
    "fig=plt.figure()\n",
    "ax=plt.axes()\n",
    "ax.plot(x_list,y_list,'*')\n",
    "ax.plot(x_array,y_array)\n",
    "ax.set_xscale(\"log\")\n",
    "plt.show()"
   ]
  },
  {
   "cell_type": "code",
   "execution_count": 29,
   "metadata": {},
   "outputs": [],
   "source": [
    "x_list=[0.0,0.6]\n",
    "y_list=[math.log(0.0+1.0),math.log(1.0+0.6)]"
   ]
  },
  {
   "cell_type": "code",
   "execution_count": 30,
   "metadata": {},
   "outputs": [
    {
     "data": {
      "image/png": "[encoded data removed]",
      "text/plain": [
       "<Figure size 432x288 with 1 Axes>"
      ]
     },
     "metadata": {
      "needs_background": "light"
     },
     "output_type": "display_data"
    }
   ],
   "source": [
    "fig=plt.figure()\n",
    "ax=plt.axes()\n",
    "ax.plot(x_list,y_list,'*')\n",
    "plt.show()"
   ]
  },
  {
   "cell_type": "code",
   "execution_count": 31,
   "metadata": {},
   "outputs": [
    {
     "name": "stdout",
     "output_type": "stream",
     "text": [
      "-5.129898820323315\n"
     ]
    }
   ],
   "source": [
    "yd=PolyLagrange(x_list,y_list,0.45)\n",
    "ye=np.log(1+0.45)\n",
    "\n",
    "error=(yd-ye)/ye\n",
    "erp=error*100\n",
    "print(erp)"
   ]
  },
  {
   "cell_type": "code",
   "execution_count": null,
   "metadata": {},
   "outputs": [],
   "source": []
  },
  {
   "cell_type": "code",
   "execution_count": null,
   "metadata": {
    "collapsed": true
   },
   "outputs": [],
   "source": []
  }
 ],
 "metadata": {
  "kernelspec": {
   "display_name": "Python 3",
   "language": "python",
   "name": "python3"
  },
  "language_info": {
   "codemirror_mode": {
    "name": "ipython",
    "version": 3
   },
   "file_extension": ".py",
   "mimetype": "text/x-python",
   "name": "python",
   "nbconvert_exporter": "python",
   "pygments_lexer": "ipython3",
   "version": "3.6.6"
  }
 },
 "nbformat": 4,
 "nbformat_minor": 2
}
