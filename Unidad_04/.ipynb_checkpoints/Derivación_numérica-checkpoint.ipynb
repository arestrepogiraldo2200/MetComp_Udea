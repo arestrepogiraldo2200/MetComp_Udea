{
 "cells": [
  {
   "cell_type": "markdown",
   "metadata": {},
   "source": [
    "# Derivación numérica"
   ]
  },
  {
   "cell_type": "code",
   "execution_count": 1,
   "metadata": {},
   "outputs": [],
   "source": [
    "import numpy \n",
    "import matplotlib.pyplot as plt\n",
    "\n",
    "#Ordenar listas\n",
    "x_list=[1.8,1.9,2.0,2.1,2.1]\n",
    "y_list=[10.889365,12.703199,14.778112,17.148957,19.855030]"
   ]
  },
  {
   "cell_type": "code",
   "execution_count": 2,
   "metadata": {},
   "outputs": [],
   "source": [
    "def dfdx(x_list,y_list,x):\n",
    "\n",
    "    if x==x_list[0]:\n",
    "        x0=x_list[0]\n",
    "        y0=y_list[0]\n",
    "        \n",
    "        x1=x_list[1]\n",
    "        y1=y_list[1]\n",
    "        \n",
    "        x2=x_list[2]\n",
    "        y2=y_list[2]\n",
    "    \n",
    "        xj=x0\n",
    "                \n",
    "    elif x==x_list[len(x_list)-1]:\n",
    "        x0=x_list[len(x_list)-1]\n",
    "        y0=y_list[len(y_list)-1]\n",
    "        \n",
    "        x1=x_list[len(x_list)-2]\n",
    "        y1=y_list[len(y_list)-1]\n",
    "        \n",
    "        x2=x_list[len(x_list)-3]\n",
    "        y2=y_list[len(y_list)-1]\n",
    "        \n",
    "        xj=x0\n",
    "        \n",
    "    else:\n",
    "        i=x_list.index(x)\n",
    "        x0=x_list[i]\n",
    "        y0=y_list[i]\n",
    "        \n",
    "        x1=x_list[i-1]\n",
    "        y1=y_list[i-1]\n",
    "        \n",
    "        x2=x_list[i+1]\n",
    "        y2=y_list[i+1]\n",
    "        \n",
    "        xj=x0\n",
    "        \n",
    "    dL0dx=(2*xj-x1-x2)/((x0-x1)*(x0-x2))\n",
    "    dL1dx=(2*xj-x0-x2)/((x1-x0)*(x1-x2))\n",
    "    dL2dx=(2*xj-x0-x1)/((x2-x0)*(x2-x1))\n",
    "    \n",
    "    value=dL0dx*y0+dL1dx*y1+dL2dx*y2\n",
    "    \n",
    "    return value"
   ]
  },
  {
   "cell_type": "code",
   "execution_count": 3,
   "metadata": {},
   "outputs": [
    {
     "name": "stdout",
     "output_type": "stream",
     "text": [
      "22.228789999999982\n"
     ]
    }
   ],
   "source": [
    "print(dfdx(x_list,y_list,2.0))"
   ]
  },
  {
   "cell_type": "code",
   "execution_count": 11,
   "metadata": {},
   "outputs": [
    {
     "data": {
      "text/plain": [
       "4.999999999921734"
      ]
     },
     "execution_count": 11,
     "metadata": {},
     "output_type": "execute_result"
    }
   ],
   "source": [
    "from scipy.misc import derivative\n",
    "def f(x):\n",
    "    return x**3 + x**2\n",
    "derivative(f, 1.0, dx=1e-6)\n",
    "\n"
   ]
  },
  {
   "cell_type": "code",
   "execution_count": null,
   "metadata": {
    "collapsed": true
   },
   "outputs": [],
   "source": []
  }
 ],
 "metadata": {
  "kernelspec": {
   "display_name": "Python 3",
   "language": "python",
   "name": "python3"
  },
  "language_info": {
   "codemirror_mode": {
    "name": "ipython",
    "version": 3
   },
   "file_extension": ".py",
   "mimetype": "text/x-python",
   "name": "python",
   "nbconvert_exporter": "python",
   "pygments_lexer": "ipython3",
   "version": "3.6.6"
  }
 },
 "nbformat": 4,
 "nbformat_minor": 2
}
