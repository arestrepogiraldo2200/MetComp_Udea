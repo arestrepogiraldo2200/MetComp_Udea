{
 "cells": [
  {
   "cell_type": "code",
   "execution_count": 4,
   "metadata": {},
   "outputs": [],
   "source": [
    "import numpy as np\n",
    "import matplotlib.pyplot as plt"
   ]
  },
  {
   "cell_type": "code",
   "execution_count": 12,
   "metadata": {},
   "outputs": [],
   "source": [
    "coeff=np.loadtxt(\"coeff.dat\")\n",
    "#print(coeff)"
   ]
  },
  {
   "cell_type": "code",
   "execution_count": 19,
   "metadata": {},
   "outputs": [],
   "source": [
    "def f(x,y):\n",
    "    value=np.log(x+2*y)\n",
    "    #value=np.exp(y/x)\n",
    "    return value\n",
    "def c(x):\n",
    "    value=1\n",
    "    value=x**3\n",
    "    return value\n",
    "def d(x):\n",
    "    value=1.5\n",
    "    value=x**2\n",
    "    return value"
   ]
  },
  {
   "cell_type": "code",
   "execution_count": 20,
   "metadata": {},
   "outputs": [],
   "source": [
    "def DoubleGauss(a,b,c,d,f,n,m):\n",
    "    #creando pesos (w_i,w_j) y raices (z_i,t_j)\n",
    "    w_i=[]\n",
    "    z_i=[]\n",
    "    for i in range(0,coeff.shape[0]):\n",
    "        if(n==int(coeff[i][0])):\n",
    "            w_i.append(coeff[i][2])\n",
    "            z_i.append(coeff[i][1])\n",
    "    w_j=[]\n",
    "    t_j=[]\n",
    "    for j in range(0,coeff.shape[0]):\n",
    "        if(m==int(coeff[j][0])):\n",
    "            w_j.append(coeff[j][2])\n",
    "            t_j.append(coeff[j][1])\n",
    "    #Integración\n",
    "    sum_i=0.0\n",
    "    for i in range(0,n):\n",
    "        x_i=0.5*((b-a)*z_i[i]+a+b) #x(z_i)\n",
    "        sum_j=0.0\n",
    "        for j in range(0,m):\n",
    "            y_j=0.5*((d(x_i)-c(x_i))*t_j[j]+c(x_i)+d(x_i))\n",
    "            sum_j+=f(x_i,y_j)*w_i[i]*w_j[j]\n",
    "        sum_i+=sum_j*(d(x_i)-c(x_i))\n",
    "    value=sum_i*0.25*(b-a)\n",
    "        \n",
    "    return value\n",
    "        "
   ]
  },
  {
   "cell_type": "code",
   "execution_count": 21,
   "metadata": {},
   "outputs": [
    {
     "name": "stdout",
     "output_type": "stream",
     "text": [
      "-3.0069952607584827\n"
     ]
    }
   ],
   "source": [
    "print(DoubleGauss(1.4,2.0,c,d,f,2,2))"
   ]
  },
  {
   "cell_type": "code",
   "execution_count": 22,
   "metadata": {},
   "outputs": [
    {
     "name": "stdout",
     "output_type": "stream",
     "text": [
      "-3.0071177760111443\n"
     ]
    }
   ],
   "source": [
    "print(DoubleGauss(1.4,2.0,c,d,f,8,8))"
   ]
  }
 ],
 "metadata": {
  "kernelspec": {
   "display_name": "Python 3",
   "language": "python",
   "name": "python3"
  },
  "language_info": {
   "codemirror_mode": {
    "name": "ipython",
    "version": 3
   },
   "file_extension": ".py",
   "mimetype": "text/x-python",
   "name": "python",
   "nbconvert_exporter": "python",
   "pygments_lexer": "ipython3",
   "version": "3.6.5"
  }
 },
 "nbformat": 4,
 "nbformat_minor": 2
}
