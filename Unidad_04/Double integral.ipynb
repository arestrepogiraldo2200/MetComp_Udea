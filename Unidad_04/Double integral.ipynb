{
 "cells": [
  {
   "cell_type": "markdown",
   "metadata": {},
   "source": [
    "Resolver: $$ \\int_{0.1}^{0.5} \\int_{x^3}^{x^2} e^{y/x} dy dx $$ "
   ]
  },
  {
   "cell_type": "code",
   "execution_count": 70,
   "metadata": {},
   "outputs": [],
   "source": [
    "import numpy as np\n",
    "import matplotlib.pyplot as plt"
   ]
  },
  {
   "cell_type": "code",
   "execution_count": 71,
   "metadata": {},
   "outputs": [
    {
     "name": "stdout",
     "output_type": "stream",
     "text": [
      "[[ 2.          0.57735027  1.        ]\n",
      " [ 2.         -0.57735027  1.        ]\n",
      " [ 3.          0.77459667  0.55555556]\n",
      " [ 3.          0.          0.88888889]\n",
      " [ 3.         -0.77459667  0.55555556]\n",
      " [ 4.          0.86113631  0.34785485]\n",
      " [ 4.          0.33998104  0.65214515]\n",
      " [ 4.         -0.33998104  0.65214515]\n",
      " [ 4.         -0.86113631  0.34785485]\n",
      " [ 5.          0.90617985  0.23692689]\n",
      " [ 5.          0.53846931  0.47862867]\n",
      " [ 5.          0.          0.56888889]\n",
      " [ 5.         -0.53846931  0.47862867]\n",
      " [ 5.         -0.90617985  0.23692689]]\n"
     ]
    }
   ],
   "source": [
    "coeff = np.loadtxt(\"coeff.dat\")\n",
    "print(coeff)"
   ]
  },
  {
   "cell_type": "code",
   "execution_count": 72,
   "metadata": {},
   "outputs": [],
   "source": [
    "#definiendo los l`imites internos de integraci`on\n",
    "\n",
    "def c(x):\n",
    "    value = x**3\n",
    "    return value\n",
    "\n",
    "def d(x):\n",
    "    value = x**2\n",
    "    return value\n",
    "\n",
    "def f(x,y):\n",
    "    value = np.e**(y/x)\n",
    "    return value"
   ]
  },
  {
   "cell_type": "code",
   "execution_count": 73,
   "metadata": {},
   "outputs": [],
   "source": [
    "def DoubleGauss(a,b,c,d,f,n,m):\n",
    "    #pesos (w_i,w_j) y raices (z_i,t_j)\n",
    "    \n",
    "    w_i = []\n",
    "    z_i = []\n",
    "    \n",
    "    for i in range(0,coeff.shape[0]):\n",
    "        if(n == int(coeff[i][0])):\n",
    "            w_i.append(coeff[i][2])\n",
    "            z_i.append(coeff[i][1])\n",
    "    \n",
    "    w_j = []\n",
    "    t_j = []\n",
    "    \n",
    "    for j in range(0,coeff.shape[0]):\n",
    "        if(m == int(coeff[j][0])):\n",
    "            w_j.append(coeff[j][2])\n",
    "            t_j.append(coeff[j][1])\n",
    "    \n",
    "    #Integral\n",
    "    sum_i = 0\n",
    "    \n",
    "    for i in range(0,n):\n",
    "        x_i = 0.5*((b-a)*z_i[i] + a + b)\n",
    "        \n",
    "        sum_j = 0\n",
    "        \n",
    "        for j in range(0,m):\n",
    "            y_j = 0.5*((d(x_i)+c(x_i))*t_j[j] + c(x_i) +d(x_i))\n",
    "            \n",
    "            sum_j += f(x_i,y_j)*w_i[i]*w_j[j]\n",
    "            \n",
    "        sum_i += sum_j*(d(x_i)-c(x_i))\n",
    "    \n",
    "    value = sum_i*0.25*(b-a)\n",
    "    \n",
    "    return value\n",
    "        \n",
    "    \n",
    "    "
   ]
  },
  {
   "cell_type": "code",
   "execution_count": 74,
   "metadata": {},
   "outputs": [
    {
     "name": "stdout",
     "output_type": "stream",
     "text": [
      "0.033643448159522985\n"
     ]
    }
   ],
   "source": [
    "print(DoubleGauss(0.1,0.5,c,d,f,5,5))"
   ]
  },
  {
   "cell_type": "code",
   "execution_count": 79,
   "metadata": {},
   "outputs": [],
   "source": [
    "def c(x):\n",
    "    value = 1\n",
    "    return value\n",
    "\n",
    "def d(x):\n",
    "    value = 1.5\n",
    "    return value\n",
    "\n",
    "def f(x,y):\n",
    "    value = np.log(x+2*y)\n",
    "    return value"
   ]
  },
  {
   "cell_type": "code",
   "execution_count": 80,
   "metadata": {},
   "outputs": [
    {
     "name": "stdout",
     "output_type": "stream",
     "text": [
      "0.4101271396849226\n"
     ]
    }
   ],
   "source": [
    "print(DoubleGauss(1.4,2.0,c,d,f,5,5))"
   ]
  },
  {
   "cell_type": "code",
   "execution_count": null,
   "metadata": {},
   "outputs": [],
   "source": []
  },
  {
   "cell_type": "code",
   "execution_count": null,
   "metadata": {},
   "outputs": [],
   "source": []
  },
  {
   "cell_type": "code",
   "execution_count": null,
   "metadata": {},
   "outputs": [],
   "source": []
  }
 ],
 "metadata": {
  "kernelspec": {
   "display_name": "Python 3",
   "language": "python",
   "name": "python3"
  },
  "language_info": {
   "codemirror_mode": {
    "name": "ipython",
    "version": 3
   },
   "file_extension": ".py",
   "mimetype": "text/x-python",
   "name": "python",
   "nbconvert_exporter": "python",
   "pygments_lexer": "ipython3",
   "version": "3.6.6"
  }
 },
 "nbformat": 4,
 "nbformat_minor": 2
}
