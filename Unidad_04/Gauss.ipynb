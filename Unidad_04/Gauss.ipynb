{
 "cells": [
  {
   "cell_type": "markdown",
   "metadata": {},
   "source": [
    "Cuadratura Gaussiana"
   ]
  },
  {
   "cell_type": "code",
   "execution_count": 1,
   "metadata": {},
   "outputs": [],
   "source": [
    "import numpy as np\n",
    "import matplotlib.pyplot as plt"
   ]
  },
  {
   "cell_type": "code",
   "execution_count": 14,
   "metadata": {},
   "outputs": [
    {
     "name": "stdout",
     "output_type": "stream",
     "text": [
      "   n            z             w\n",
      "[[ 2.          0.57735027  1.        ]\n",
      " [ 2.         -0.57735027  1.        ]\n",
      " [ 3.          0.77459667  0.55555556]\n",
      " [ 3.          0.          0.88888889]\n",
      " [ 3.         -0.77459667  0.55555556]\n",
      " [ 4.          0.86113631  0.34785485]\n",
      " [ 4.          0.33998104  0.65214515]\n",
      " [ 4.         -0.33998104  0.65214515]\n",
      " [ 4.         -0.86113631  0.34785485]\n",
      " [ 5.          0.90617985  0.23692689]\n",
      " [ 5.          0.53846931  0.47862867]\n",
      " [ 5.          0.          0.56888889]\n",
      " [ 5.         -0.53846931  0.47862867]\n",
      " [ 5.         -0.90617985  0.23692689]]\n",
      "(14, 3)\n"
     ]
    }
   ],
   "source": [
    "coeff = np.loadtxt(\"coeff.dat\")\n",
    "print(\"   n            z             w\")\n",
    "print(coeff)\n",
    "print(coeff.shape)\n",
    "\n"
   ]
  },
  {
   "cell_type": "code",
   "execution_count": 33,
   "metadata": {},
   "outputs": [],
   "source": [
    "def f(x):\n",
    "    value = np.log(np.sin(np.exp(-x)))\n",
    "    return(value)\n",
    "\n",
    "def GaussQuad(f,a,b,n):\n",
    "    \n",
    "    w_list = []\n",
    "    z_list = []\n",
    "    \n",
    "    for i in range(0,coeff.shape[0]):\n",
    "        if n == int(coeff[i][0]):\n",
    "            w_list.append(coeff[i][2])\n",
    "            z_list.append(coeff[i][1])\n",
    "            \n",
    "    sum = 0\n",
    "    for i in range(0,n):\n",
    "        argument = ((b-a)*z_list[i]+a+b)*0.5\n",
    "        sum += w_list[i]*f(argument)\n",
    "    value = sum*(b-a)*0.5\n",
    "    \n",
    "    return value  \n",
    "    "
   ]
  },
  {
   "cell_type": "code",
   "execution_count": 34,
   "metadata": {},
   "outputs": [
    {
     "name": "stdout",
     "output_type": "stream",
     "text": [
      "-1.5097767558901296\n"
     ]
    }
   ],
   "source": [
    "print(GaussQuad(f,1,2,5))"
   ]
  },
  {
   "cell_type": "code",
   "execution_count": null,
   "metadata": {},
   "outputs": [],
   "source": []
  }
 ],
 "metadata": {
  "kernelspec": {
   "display_name": "Python 3",
   "language": "python",
   "name": "python3"
  },
  "language_info": {
   "codemirror_mode": {
    "name": "ipython",
    "version": 3
   },
   "file_extension": ".py",
   "mimetype": "text/x-python",
   "name": "python",
   "nbconvert_exporter": "python",
   "pygments_lexer": "ipython3",
   "version": "3.6.6"
  }
 },
 "nbformat": 4,
 "nbformat_minor": 2
}
