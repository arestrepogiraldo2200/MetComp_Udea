{
 "cells": [
  {
   "cell_type": "code",
   "execution_count": null,
   "metadata": {},
   "outputs": [],
   "source": [
    "import numpy as np\n",
    "import matplotlib.pyplot as plt\n",
    "\n",
    "\n",
    "def f(x):\n",
    "    value = np.e**(-x**2)\n",
    "    return value\n",
    "\n",
    "\n",
    "\"\"\"\"\n",
    "def f(x):\n",
    "    value = x**3 -3*x**2 - 3\n",
    "    return value\n",
    "\n",
    "\n",
    "def f(x):\n",
    "    value = np.sin(x**2)*np.cos(x**3)\n",
    "    return value\n",
    "\"\"\""
   ]
  },
  {
   "cell_type": "code",
   "execution_count": null,
   "metadata": {},
   "outputs": [],
   "source": [
    "def TrapezoidRule(f,a,b,n):\n",
    "    h = abs(a-b)/n\n",
    "\n",
    "    nodes = []\n",
    "    for i in range(0,n+1):\n",
    "        nodes.append(a+h*i)\n",
    "    \n",
    "    sum = 0\n",
    "    for i in range(0,n):\n",
    "        sum += 0.5*h*(f(nodes[i]) + f(nodes[i+1]))\n",
    "        \n",
    "    return sum"
   ]
  },
  {
   "cell_type": "code",
   "execution_count": null,
   "metadata": {},
   "outputs": [],
   "source": [
    "a = 0\n",
    "b = 3\n",
    "n = 10\n",
    "h = abs(a-b)/n\n",
    "nodes = []\n",
    "\n",
    "for i in range(0,n+1):\n",
    "    nodes.append(a+h*i)    "
   ]
  },
  {
   "cell_type": "code",
   "execution_count": null,
   "metadata": {},
   "outputs": [],
   "source": [
    "def LinInterpol(x,y,u):\n",
    "    \n",
    "    for i in range(0,len(x)):\n",
    "        \n",
    "        if x[i] <= u <= x[i+1]:\n",
    "           \n",
    "            value = y[i] + (u - x[i])*(y[i+1] - y[i])/(x[i+1] - x[i])\n",
    "            \n",
    "            return value    "
   ]
  },
  {
   "cell_type": "code",
   "execution_count": null,
   "metadata": {},
   "outputs": [],
   "source": [
    "x = np.linspace(0,3,100)\n",
    "y = []\n",
    "\n",
    "for i in range(0,len(x)):\n",
    "    y.append(f(x[i]))\n",
    "        \n",
    "ynode = []\n",
    "for i in range(0,len(nodes)):\n",
    "    ynode.append(f(nodes[i]))\n",
    "    \n",
    "\n",
    "interp = []\n",
    "\n",
    "for i in range(0,len(x)):\n",
    "    interp.append(LinInterpol(nodes,ynode,x[i]))\n",
    "    \n",
    "plt.plot(x,y)\n",
    "plt.plot(nodes,ynode,'*')\n",
    "plt.plot(x,interp)\n",
    "plt.grid()\n",
    "plt.show()"
   ]
  },
  {
   "cell_type": "code",
   "execution_count": null,
   "metadata": {},
   "outputs": [],
   "source": [
    "print(TrapezoidRule(f,0,3,10000))"
   ]
  },
  {
   "cell_type": "code",
   "execution_count": null,
   "metadata": {},
   "outputs": [],
   "source": []
  },
  {
   "cell_type": "code",
   "execution_count": null,
   "metadata": {},
   "outputs": [],
   "source": []
  }
 ],
 "metadata": {
  "kernelspec": {
   "display_name": "Python 3",
   "language": "python",
   "name": "python3"
  },
  "language_info": {
   "codemirror_mode": {
    "name": "ipython",
    "version": 3
   },
   "file_extension": ".py",
   "mimetype": "text/x-python",
   "name": "python",
   "nbconvert_exporter": "python",
   "pygments_lexer": "ipython3",
   "version": "3.6.7"
  }
 },
 "nbformat": 4,
 "nbformat_minor": 2
}
