{
 "cells": [
  {
   "cell_type": "code",
   "execution_count": 93,
   "metadata": {},
   "outputs": [],
   "source": [
    "import numpy as np"
   ]
  },
  {
   "cell_type": "code",
   "execution_count": 94,
   "metadata": {},
   "outputs": [
    {
     "name": "stdout",
     "output_type": "stream",
     "text": [
      "[[-1 -2  2]\n",
      " [-5 -4 -6]\n",
      " [ 5  2  8]]\n"
     ]
    }
   ],
   "source": [
    "A  = [[-1,-2,2],[-5,-4,-6],[5,2,8]]\n",
    "A = np.array(A)\n",
    "print(A)\n",
    "\n",
    "B = [1,8,5,5]\n",
    "B = np.array(B)"
   ]
  },
  {
   "cell_type": "code",
   "execution_count": 95,
   "metadata": {},
   "outputs": [
    {
     "name": "stdout",
     "output_type": "stream",
     "text": [
      "[array([[-5., -4., -6.],\n",
      "       [ 0., -2.,  2.],\n",
      "       [ 0.,  0.,  2.]]), 2.0]\n"
     ]
    }
   ],
   "source": [
    "def row_pivote(A,fil,col):\n",
    "    max_value = max(A[fil:,col])\n",
    "    min_value = min(A[fil:,col])\n",
    "    #return max_value\n",
    "    if (abs(max_value)>abs(min_value)):\n",
    "        pivote = max_value\n",
    "    else:\n",
    "        pivote = min_value\n",
    "    for i in range(0,A.shape[0]):\n",
    "        if (A[i][col])==pivote:\n",
    "            fila_pivote = i\n",
    "    return fila_pivote\n",
    "\n",
    "def TriangularSuperiorPerm(A):  \n",
    "\n",
    "    n = A.shape[0]\n",
    "    ATriangSup = np.zeros((n,n))\n",
    "    ATriangSup[:,0:n] = A\n",
    "    \n",
    "    #Matriz triangular superior por eliminacion Gaussiana\n",
    "    i = 0  #Contador sobre filas\n",
    "    j = 0  #Contador sobre columnas\n",
    "    permut = 0.0\n",
    "    \n",
    "    for h in range(j,n):        \n",
    "        fila_pivote = row_pivote(ATriangSup,i,h)\n",
    "        pivote = ATriangSup[fila_pivote][h]\n",
    "        \n",
    "        if (fila_pivote != i):\n",
    "            ATriangSup[[fila_pivote,i]] = ATriangSup[[i,fila_pivote]] #Permutar filas\n",
    "            permut = permut + 1.0\n",
    "        \n",
    "        for k in range(i+1,n):\n",
    "            x = - ATriangSup[k][h]/pivote\n",
    "            ATriangSup[k] = ATriangSup[k] + x*ATriangSup[i]\n",
    "            \n",
    "        i = i + 1\n",
    "        j = j + 1\n",
    "  \n",
    "    Return = [ATriangSup,permut]\n",
    "    \n",
    "    return Return\n",
    "\n",
    "print(TriangularSuperior(A))"
   ]
  },
  {
   "cell_type": "code",
   "execution_count": 96,
   "metadata": {},
   "outputs": [
    {
     "name": "stdout",
     "output_type": "stream",
     "text": [
      "20.0\n"
     ]
    }
   ],
   "source": [
    "def Det(A):\n",
    "    n = A.shape[0]\n",
    "    ATriangSup = TriangularSuperiorPerm(A)[0]\n",
    "    diagprod = 1.0\n",
    "    for i in range(0,n):\n",
    "        diagprod *= ATriangSup[i][i]\n",
    "    \n",
    "    Sign = (-1)**TriangularSuperiorPerm(A)[1]\n",
    "    \n",
    "    return diagprod*Sign\n",
    "\n",
    "print(Det(A))\n",
    "    "
   ]
  },
  {
   "cell_type": "code",
   "execution_count": 97,
   "metadata": {},
   "outputs": [],
   "source": [
    "def InverseMatrix(A):\n",
    "     \n",
    "    #Matriz aumentada\n",
    "    n = A.shape[0]\n",
    "    \n",
    "    Ainv = np.zeros((n,2*n))\n",
    "    \n",
    "    Ainv[:,0:n] = A\n",
    "    \n",
    "    #Aumentada con la identidad\n",
    "    for i in range(0,n):\n",
    "        Ainv[i][i+n] = 1.0\n",
    "    \n",
    "    #return Ainv\n",
    "    #Matriz triangular superior por eliminacion Gaussiana\n",
    "    \n",
    "    i = 0  #Contador sobre filas\n",
    "    j = 0  #Contador sobre columnas\n",
    "    \n",
    "    for h in range(j,n-1):                       #No se consideran columnas de I\n",
    "        fila_pivote = row_pivote(Ainv,i,h)\n",
    "        pivote = Ainv[fila_pivote][h]\n",
    "        \n",
    "        if (fila_pivote != i):\n",
    "            Ainv[[fila_pivote,i]] = Ainv[[i,fila_pivote]]   #Permutar filas\n",
    "        \n",
    "        for k in range(i+1,n):\n",
    "            x = - Ainv[k][h]/pivote\n",
    "            Ainv[k] = Ainv[k] + x*Ainv[i]\n",
    "            \n",
    "        i = i + 1\n",
    "        j = j + 1\n",
    "        \n",
    "       \n",
    "    for i in range(0,n):\n",
    "        Ainv[i] = Ainv[i]/Ainv[i][i]      \n",
    "\n",
    "    #return Ainv     \n",
    "    \n",
    "    for j in range(n-1,0,-1):\n",
    "        for i in range(j-1,-1,-1):\n",
    "            x = - Ainv[i][j]\n",
    "            Ainv[i] = Ainv[i] + x*Ainv[j]\n",
    " \n",
    "    #return Ainv\n",
    "    \n",
    "    AINV = np.zeros((n,n))\n",
    "    AINV = Ainv[:,n:2*n] \n",
    "            \n",
    "    return AINV"
   ]
  },
  {
   "cell_type": "code",
   "execution_count": 98,
   "metadata": {},
   "outputs": [
    {
     "name": "stdout",
     "output_type": "stream",
     "text": [
      "[[-1.   1.   1. ]\n",
      " [ 0.5 -0.9 -0.8]\n",
      " [ 0.5 -0.4 -0.3]]\n"
     ]
    }
   ],
   "source": [
    "np.set_printoptions(precision=5)\n",
    "print(InverseMatrix(A))"
   ]
  },
  {
   "cell_type": "code",
   "execution_count": 99,
   "metadata": {},
   "outputs": [
    {
     "name": "stdout",
     "output_type": "stream",
     "text": [
      "[[1.00000e+00 0.00000e+00 1.11022e-16]\n",
      " [0.00000e+00 1.00000e+00 1.11022e-16]\n",
      " [0.00000e+00 0.00000e+00 1.00000e+00]]\n"
     ]
    }
   ],
   "source": [
    "#Prueba\n",
    "L = np.matmul(A,InverseMatrix(A))\n",
    "print(L)\n"
   ]
  },
  {
   "cell_type": "code",
   "execution_count": null,
   "metadata": {},
   "outputs": [],
   "source": []
  },
  {
   "cell_type": "code",
   "execution_count": null,
   "metadata": {},
   "outputs": [],
   "source": []
  }
 ],
 "metadata": {
  "kernelspec": {
   "display_name": "Python 3",
   "language": "python",
   "name": "python3"
  },
  "language_info": {
   "codemirror_mode": {
    "name": "ipython",
    "version": 3
   },
   "file_extension": ".py",
   "mimetype": "text/x-python",
   "name": "python",
   "nbconvert_exporter": "python",
   "pygments_lexer": "ipython3",
   "version": "3.6.5"
  }
 },
 "nbformat": 4,
 "nbformat_minor": 2
}
