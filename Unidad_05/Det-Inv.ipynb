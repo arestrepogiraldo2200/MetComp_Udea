{
 "cells": [
  {
   "cell_type": "code",
   "execution_count": 260,
   "metadata": {},
   "outputs": [],
   "source": [
    "import numpy as np"
   ]
  },
  {
   "cell_type": "code",
   "execution_count": 261,
   "metadata": {},
   "outputs": [
    {
     "name": "stdout",
     "output_type": "stream",
     "text": [
      "[[ 1  2  5  8]\n",
      " [ 5  4  6  0]\n",
      " [ 2  2  8 -1]\n",
      " [ 8  6  9  5]]\n"
     ]
    }
   ],
   "source": [
    "A  = [[1,2,5,8],[5,4,6,0],[2,2,8,-1],[8,6,9,5]]\n",
    "A = np.array(A)\n",
    "print(A)\n",
    "\n",
    "B = [1,8,5,5]\n",
    "B = np.array(B)"
   ]
  },
  {
   "cell_type": "code",
   "execution_count": 262,
   "metadata": {},
   "outputs": [
    {
     "name": "stdout",
     "output_type": "stream",
     "text": [
      "[[ 8.  6.  9.  5.]\n",
      " [ 0.  1.  4.  7.]\n",
      " [ 0.  0.  4. -5.]\n",
      " [ 0.  0.  0. -5.]]\n"
     ]
    }
   ],
   "source": [
    "def row_pivote(A,fil,col):\n",
    "    max_value = max(A[fil:,col])\n",
    "    min_value = min(A[fil:,col])\n",
    "    #return max_value\n",
    "    if (abs(max_value)>abs(min_value)):\n",
    "        pivote = max_value\n",
    "    else:\n",
    "        pivote = min_value\n",
    "    for i in range(0,A.shape[0]):\n",
    "        if (A[i][col])==pivote:\n",
    "            fila_pivote = i\n",
    "    return fila_pivote\n",
    "\n",
    "def TriangularSuperior(A):  \n",
    "\n",
    "    n = A.shape[0]\n",
    "    ATriangSup = np.zeros((n,n))\n",
    "    ATriangSup[:,0:n] = A\n",
    "    \n",
    "    #Matriz triangular superior por eliminacion Gaussiana\n",
    "    i = 0  #Contador sobre filas\n",
    "    j = 0  #Contador sobre columnas\n",
    "    \n",
    "    for h in range(j,n):        \n",
    "        fila_pivote = row_pivote(ATriangSup,i,h)\n",
    "        pivote = ATriangSup[fila_pivote][h]\n",
    "        \n",
    "        if (fila_pivote != i):\n",
    "            ATriangSup[[fila_pivote,i]] = ATriangSup[[i,fila_pivote]]   #Permutar filas\n",
    "        \n",
    "        for k in range(i+1,n):\n",
    "            x = - ATriangSup[k][h]/pivote\n",
    "            ATriangSup[k] = ATriangSup[k] + x*ATriangSup[i]\n",
    "            \n",
    "        i = i + 1\n",
    "        j = j + 1\n",
    "  \n",
    "    return ATriangSup\n",
    "\n",
    "print(TriangularSuperior(A))"
   ]
  },
  {
   "cell_type": "code",
   "execution_count": 263,
   "metadata": {},
   "outputs": [
    {
     "name": "stdout",
     "output_type": "stream",
     "text": [
      "-214.0\n"
     ]
    }
   ],
   "source": [
    "def Det(A):\n",
    "    n = A.shape[0]\n",
    "    ATriangSup = TriangularSuperior(A)\n",
    "    diagprod = 1.0\n",
    "    for i in range(0,n):\n",
    "        diagprod *= ATriangSup[i][i]\n",
    "    return diagprod\n",
    "\n",
    "print(Det(A))\n",
    "    "
   ]
  },
  {
   "cell_type": "code",
   "execution_count": 264,
   "metadata": {},
   "outputs": [],
   "source": [
    "def InverseMatrix(A):\n",
    "     \n",
    "    #Matriz aumentada\n",
    "    n = A.shape[0]\n",
    "    \n",
    "    Ainv = np.zeros((n,2*n))\n",
    "    \n",
    "    Ainv[:,0:n] = A\n",
    "    \n",
    "    #Aumentada con la identidad\n",
    "    for i in range(0,n):\n",
    "        Ainv[i][i+n] = 1.0\n",
    "    \n",
    "    #return Ainv\n",
    "    #Matriz triangular superior por eliminacion Gaussiana\n",
    "    \n",
    "    i = 0  #Contador sobre filas\n",
    "    j = 0  #Contador sobre columnas\n",
    "    \n",
    "    for h in range(j,n-1):                       #No se consideran columnas de I\n",
    "        fila_pivote = row_pivote(Ainv,i,h)\n",
    "        pivote = Ainv[fila_pivote][h]\n",
    "        \n",
    "        if (fila_pivote != i):\n",
    "            Ainv[[fila_pivote,i]] = Ainv[[i,fila_pivote]]   #Permutar filas\n",
    "        \n",
    "        for k in range(i+1,n):\n",
    "            x = - Ainv[k][h]/pivote\n",
    "            Ainv[k] = Ainv[k] + x*Ainv[i]\n",
    "            \n",
    "        i = i + 1\n",
    "        j = j + 1\n",
    "        \n",
    "       \n",
    "    for i in range(0,n):\n",
    "        Ainv[i] = Ainv[i]/Ainv[i][i]      \n",
    "\n",
    "    #return Ainv     \n",
    "    \n",
    "    for j in range(n-1,0,-1):\n",
    "        for i in range(j-1,-1,-1):\n",
    "            x = - Ainv[i][j]\n",
    "            Ainv[i] = Ainv[i] + x*Ainv[j]\n",
    " \n",
    "    #return Ainv\n",
    "    \n",
    "    AINV = np.zeros((n,n))\n",
    "    AINV = Ainv[:,n:2*n] \n",
    "            \n",
    "    return AINV"
   ]
  },
  {
   "cell_type": "code",
   "execution_count": 265,
   "metadata": {},
   "outputs": [
    {
     "name": "stdout",
     "output_type": "stream",
     "text": [
      "[[-0.46729 -1.03738  0.18692  0.78505]\n",
      " [ 0.64019  1.91121 -0.55607 -1.13551]\n",
      " [-0.03738 -0.24299  0.21495  0.1028 ]\n",
      " [ 0.04673 -0.19626 -0.01869  0.1215 ]]\n"
     ]
    }
   ],
   "source": [
    "np.set_printoptions(precision=5)\n",
    "print(InverseMatrix(A))"
   ]
  },
  {
   "cell_type": "code",
   "execution_count": 266,
   "metadata": {},
   "outputs": [
    {
     "name": "stdout",
     "output_type": "stream",
     "text": [
      "[[ 1.00000e+00  4.44089e-16  0.00000e+00  0.00000e+00]\n",
      " [-4.44089e-16  1.00000e+00  0.00000e+00  0.00000e+00]\n",
      " [ 2.22045e-16  0.00000e+00  1.00000e+00  0.00000e+00]\n",
      " [ 0.00000e+00  0.00000e+00  4.44089e-16  1.00000e+00]]\n"
     ]
    }
   ],
   "source": [
    "#Prueba\n",
    "L = np.matmul(A,InverseMatrix(A))\n",
    "print(L)\n"
   ]
  },
  {
   "cell_type": "code",
   "execution_count": null,
   "metadata": {},
   "outputs": [],
   "source": []
  }
 ],
 "metadata": {
  "kernelspec": {
   "display_name": "Python 3",
   "language": "python",
   "name": "python3"
  },
  "language_info": {
   "codemirror_mode": {
    "name": "ipython",
    "version": 3
   },
   "file_extension": ".py",
   "mimetype": "text/x-python",
   "name": "python",
   "nbconvert_exporter": "python",
   "pygments_lexer": "ipython3",
   "version": "3.6.5"
  }
 },
 "nbformat": 4,
 "nbformat_minor": 2
}
