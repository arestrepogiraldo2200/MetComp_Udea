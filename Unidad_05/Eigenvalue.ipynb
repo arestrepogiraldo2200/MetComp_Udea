{
 "cells": [
  {
   "cell_type": "code",
   "execution_count": 37,
   "metadata": {},
   "outputs": [],
   "source": [
    "import numpy as np"
   ]
  },
  {
   "cell_type": "code",
   "execution_count": 45,
   "metadata": {},
   "outputs": [],
   "source": [
    "A = [[0,1,0],[0,0,1],[2,-5,4]]\n",
    "A = np.array(A)\n",
    "B = [0,0,0]\n",
    "B = np.array(B)"
   ]
  },
  {
   "cell_type": "code",
   "execution_count": 46,
   "metadata": {},
   "outputs": [],
   "source": [
    "def Mprod(A,B):\n",
    "    if (A.shape[1] == B.shape[0]):\n",
    "        C = np.zeros((A.shape[1],B.shape[0]))\n",
    "        \n",
    "        for i in range(0,A.shape[0]):\n",
    "            \n",
    "            for j in range(0,B.shape[1]):\n",
    "                \n",
    "                sum = 0\n",
    "                for k in range(0,A.shape[1]):\n",
    "                    sum += A[i][k]*B[k][j]\n",
    "                C[i][j] = sum\n",
    "        return C\n",
    "    \n",
    "def Mtraz(A):\n",
    "    if (A.shape[0] == A.shape[1]):\n",
    "        sum = 0\n",
    "        for i in range(0,A.shape[0]):\n",
    "            sum += A[i][i]\n",
    "        return sum\n",
    "    \n",
    "    \n",
    "def row_pivote(A,fil,col):\n",
    "    max_value = max(A[fil:,col])\n",
    "    min_value = min(A[fil:,col])\n",
    "    #return max_value\n",
    "    if (abs(max_value)>abs(min_value)):\n",
    "        pivote = max_value\n",
    "    else:\n",
    "        pivote = min_value\n",
    "    for i in range(0,A.shape[0]):\n",
    "        if (A[i][col])==pivote:\n",
    "            fila_pivote = i\n",
    "    return fila_pivote\n",
    "\n",
    "\n",
    "\n",
    "\n",
    "def GaussSolver(A,B):\n",
    "    \n",
    "    ####################\n",
    "    \n",
    "    #Matriz aumentada\n",
    "    n = A.shape[0]\n",
    "    m = A.shape[1]\n",
    "    \n",
    "    AB = np.zeros((n,m+1))\n",
    "    \n",
    "    AB[:,0:m] = A\n",
    "    \n",
    "    for i in range(0,len(B)):\n",
    "        AB[i][m] = B[i]\n",
    "    \n",
    "    #return AB\n",
    "    \n",
    "    #############\n",
    "    #Eliminacion Gaussiana\n",
    "    \n",
    "    i = 0  #Contador sobre filas\n",
    "    j = 0  #Contador sobre columnas\n",
    "    \n",
    "    for h in range(j,m-1):                       #No se considera la columna B\n",
    "        fila_pivote = row_pivote(AB,i,h)\n",
    "        pivote = AB[fila_pivote][h]\n",
    "        \n",
    "        if (fila_pivote != i):\n",
    "            AB[[fila_pivote,i]] = AB[[i,fila_pivote]]   #Permutar filas\n",
    "        \n",
    "        for k in range(i+1,n):\n",
    "            x = - AB[k][h]/pivote\n",
    "            AB[k] = AB[k] + x*AB[i]\n",
    "            \n",
    "        i = i + 1\n",
    "        j = j + 1\n",
    "        \n",
    "    return AB"
   ]
  },
  {
   "cell_type": "code",
   "execution_count": 54,
   "metadata": {},
   "outputs": [
    {
     "name": "stdout",
     "output_type": "stream",
     "text": [
      "[2. 1. 1.]\n"
     ]
    }
   ],
   "source": [
    "#Valores propios de matrices 3x3\n",
    "def eigenvalue(A):\n",
    "    AA = Mprod(A,A)\n",
    "    AAA = Mprod(A,AA)\n",
    "    \n",
    "    a0 = 1/6 * (Mtraz(A)**3 + 2*Mtraz(AAA) - 3*Mtraz(A)*Mtraz(AA))\n",
    "    a1 = -1/2 * (Mtraz(A)*Mtraz(A)-Mtraz(AA))\n",
    "    a2 = Mtraz(A)\n",
    "    a3 = -1.0\n",
    "    \n",
    "    coefficients = [a3,a2,a1,a0]\n",
    "    eigenvalues = np.roots(coefficients)        #Halla raices\n",
    "    \n",
    "    ###Solo para este ejemplo se toman los valores reales!!!!\n",
    "    \n",
    "    return np.real(eigenvalues)                #Toma partes reales solamente\n",
    "\n",
    "valprop = eigenvalue(A)\n",
    "    \n",
    "print(eigenvalue(A))\n",
    "    "
   ]
  },
  {
   "cell_type": "code",
   "execution_count": 55,
   "metadata": {},
   "outputs": [
    {
     "name": "stdout",
     "output_type": "stream",
     "text": [
      "[[-2.  1.  0.  0.]\n",
      " [ 0. -4.  2.  0.]\n",
      " [ 0.  0.  0.  0.]]\n",
      "[[ 2.  -5.   3.   0. ]\n",
      " [ 0.  -1.5  1.5  0. ]\n",
      " [ 0.   0.   0.   0. ]]\n"
     ]
    }
   ],
   "source": [
    "def eigenvector(A,L):        #L es eigenvector\n",
    "    matrix = A - L*np.identity(3)\n",
    "    return(GaussSolver(matrix,B))\n",
    "\n",
    "\n",
    "print(eigenvector(A,2))    \n",
    "print(eigenvector(A,1))"
   ]
  },
  {
   "cell_type": "code",
   "execution_count": null,
   "metadata": {},
   "outputs": [],
   "source": []
  }
 ],
 "metadata": {
  "kernelspec": {
   "display_name": "Python 3",
   "language": "python",
   "name": "python3"
  },
  "language_info": {
   "codemirror_mode": {
    "name": "ipython",
    "version": 3
   },
   "file_extension": ".py",
   "mimetype": "text/x-python",
   "name": "python",
   "nbconvert_exporter": "python",
   "pygments_lexer": "ipython3",
   "version": "3.6.5"
  }
 },
 "nbformat": 4,
 "nbformat_minor": 2
}
