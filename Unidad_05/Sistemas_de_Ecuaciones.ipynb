{
 "cells": [
  {
   "cell_type": "code",
   "execution_count": 1,
   "metadata": {},
   "outputs": [],
   "source": [
    "import numpy as np"
   ]
  },
  {
   "cell_type": "code",
   "execution_count": 64,
   "metadata": {},
   "outputs": [
    {
     "name": "stdout",
     "output_type": "stream",
     "text": [
      "[[ 1  2  5  8]\n",
      " [ 5  4  6  0]\n",
      " [ 2  2  8 -1]\n",
      " [ 8  6  9  5]]\n"
     ]
    }
   ],
   "source": [
    "A = [[1,2,5,8],[5,4,6,0],[2,2,8,-1],[8,6,9,5]]\n",
    "A = np.array(A)\n",
    "print(A)\n",
    "\n",
    "B = [1,8,5,5]\n",
    "B = np.array(B)"
   ]
  },
  {
   "cell_type": "code",
   "execution_count": 65,
   "metadata": {},
   "outputs": [
    {
     "name": "stdout",
     "output_type": "stream",
     "text": [
      "[[ 2  5  8]\n",
      " [ 4  6  0]\n",
      " [ 2  8 -1]\n",
      " [ 6  9  5]]\n"
     ]
    }
   ],
   "source": [
    "print(A[:,1:]) #"
   ]
  },
  {
   "cell_type": "code",
   "execution_count": 66,
   "metadata": {},
   "outputs": [],
   "source": [
    "#Retorna fila del pivote de una columna\n",
    "def row_pivote(A,fil,col):\n",
    "    max_value = max(A[fil:,col])\n",
    "    min_value = min(A[fil:,col])\n",
    "    #return max_value\n",
    "    if (abs(max_value)>abs(min_value)):\n",
    "        pivote = max_value\n",
    "    else:\n",
    "        pivote = min_value\n",
    "    for i in range(0,A.shape[0]):\n",
    "        if (A[i][col])==pivote:\n",
    "            fila_pivote = i\n",
    "    return fila_pivote\n",
    "    \n",
    "    \n",
    "#print(row_pivote(A,0,2)) "
   ]
  },
  {
   "cell_type": "code",
   "execution_count": 68,
   "metadata": {},
   "outputs": [
    {
     "name": "stdout",
     "output_type": "stream",
     "text": [
      "[-3.90654206  7.47196262 -0.39252336 -1.00934579]\n"
     ]
    }
   ],
   "source": [
    "def GaussSolver(A,B):\n",
    "    \n",
    "    ####################\n",
    "    \n",
    "    #Matriz aumentada\n",
    "    n = A.shape[0]\n",
    "    m = A.shape[1]\n",
    "    \n",
    "    AB = np.zeros((n,m+1))\n",
    "    \n",
    "    AB[:,0:m] = A\n",
    "    \n",
    "    for i in range(0,len(B)):\n",
    "        AB[i][m] = B[i]\n",
    "    \n",
    "    #return AB\n",
    "    \n",
    "    #############\n",
    "    #Eliminacion Gaussiana\n",
    "    \n",
    "    i = 0  #Contador sobre filas\n",
    "    j = 0  #Contador sobre columnas\n",
    "    \n",
    "    for h in range(j,m-1):                       #No se considera la columna B\n",
    "        fila_pivote = row_pivote(AB,i,h)\n",
    "        pivote = AB[fila_pivote][h]\n",
    "        \n",
    "        if (fila_pivote != i):\n",
    "            AB[[fila_pivote,i]] = AB[[i,fila_pivote]]   #Permutar filas\n",
    "        \n",
    "        for k in range(i+1,n):\n",
    "            x = - AB[k][h]/pivote\n",
    "            AB[k] = AB[k] + x*AB[i]\n",
    "            \n",
    "        i = i + 1\n",
    "        j = j + 1\n",
    "  \n",
    "    #return AB\n",
    "     ######################\n",
    "        \n",
    "    #Solucion    \n",
    "    x_sol = np.zeros(n)\n",
    "    for i in range(n-1,-1,-1):\n",
    "        \n",
    "        if (i == n-1):\n",
    "            x_sol[i] = AB[i][m] / AB[i][i]\n",
    "        else:\n",
    "            sum = 0\n",
    "            for j in range(i+1,m):\n",
    "                sum += AB[i][j]*x_sol[j]\n",
    "            x_sol[i] = (AB[i][m] -sum) / AB[i][i]\n",
    "            \n",
    "    return x_sol\n",
    "    \n",
    "    \n",
    "print(GaussSolver(A,B))"
   ]
  },
  {
   "cell_type": "code",
   "execution_count": null,
   "metadata": {},
   "outputs": [],
   "source": [
    "\n"
   ]
  },
  {
   "cell_type": "code",
   "execution_count": null,
   "metadata": {},
   "outputs": [],
   "source": []
  }
 ],
 "metadata": {
  "kernelspec": {
   "display_name": "Python 3",
   "language": "python",
   "name": "python3"
  },
  "language_info": {
   "codemirror_mode": {
    "name": "ipython",
    "version": 3
   },
   "file_extension": ".py",
   "mimetype": "text/x-python",
   "name": "python",
   "nbconvert_exporter": "python",
   "pygments_lexer": "ipython3",
   "version": "3.6.6"
  }
 },
 "nbformat": 4,
 "nbformat_minor": 2
}
