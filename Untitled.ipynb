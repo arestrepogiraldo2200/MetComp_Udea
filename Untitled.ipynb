{
 "cells": [
  {
   "cell_type": "code",
   "execution_count": 54,
   "metadata": {},
   "outputs": [],
   "source": [
    "import numpy as np"
   ]
  },
  {
   "cell_type": "code",
   "execution_count": 55,
   "metadata": {},
   "outputs": [
    {
     "name": "stdout",
     "output_type": "stream",
     "text": [
      "[[2 3 4]\n",
      " [5 4 6]\n",
      " [1 0 9]]\n",
      "\n",
      "[[2 3 4]\n",
      " [5 4 6]\n",
      " [1 0 9]]\n"
     ]
    }
   ],
   "source": [
    "A = [[2,3,4],[5,4,6],[1,0,9]]\n",
    "A = np.array(A)\n",
    "#convertir a Arreglo\n",
    "B = [[2,3,4],[5,4,6],[1,0,9]]\n",
    "B = np.array(B)\n",
    "\n",
    "print(A)\n",
    "print(\"\")\n",
    "print(B)\n"
   ]
  },
  {
   "cell_type": "code",
   "execution_count": 56,
   "metadata": {},
   "outputs": [
    {
     "name": "stdout",
     "output_type": "stream",
     "text": [
      "[[ 4.  6.  8.]\n",
      " [10.  8. 12.]\n",
      " [ 2.  0. 18.]]\n",
      "\n",
      "[[ 4  6  8]\n",
      " [10  8 12]\n",
      " [ 2  0 18]]\n"
     ]
    }
   ],
   "source": [
    "def Msum(A,B):\n",
    "\n",
    "    if (A.shape == B.shape):\n",
    "        \n",
    "        C = np.zeros(A.shape)\n",
    "        \n",
    "        for i in range(0,A.shape[0]):\n",
    "            for j in range(0,A.shape[1]):\n",
    "                C[i][j] = A[i][j] + B[i][j]\n",
    "        return C\n",
    "\n",
    "print(Msum(A,B))\n",
    "print(\"\")\n",
    "print(A+B)"
   ]
  },
  {
   "cell_type": "code",
   "execution_count": 57,
   "metadata": {},
   "outputs": [
    {
     "name": "stdout",
     "output_type": "stream",
     "text": [
      "[[23. 18. 62.]\n",
      " [36. 31. 98.]\n",
      " [11.  3. 85.]]\n",
      "\n",
      "[[23 18 62]\n",
      " [36 31 98]\n",
      " [11  3 85]]\n"
     ]
    }
   ],
   "source": [
    "def Mprod(A,B):\n",
    "    if (A.shape[1] == B.shape[0]):\n",
    "        C = np.zeros((A.shape[1],B.shape[0]))\n",
    "        \n",
    "        for i in range(0,A.shape[0]):\n",
    "            \n",
    "            for j in range(0,B.shape[1]):\n",
    "                \n",
    "                sum = 0\n",
    "                for k in range(0,A.shape[1]):\n",
    "                    sum += A[i][k]*B[k][j]\n",
    "                C[i][j] = sum\n",
    "        return C\n",
    "    \n",
    "    \n",
    "print(Mprod(A,B))\n",
    "print(\"\")\n",
    "print(np.matmul(A,B))"
   ]
  },
  {
   "cell_type": "code",
   "execution_count": 58,
   "metadata": {},
   "outputs": [
    {
     "name": "stdout",
     "output_type": "stream",
     "text": [
      "[[2 3 4]\n",
      " [5 4 6]\n",
      " [1 0 9]]\n",
      "\n",
      "[[2. 5. 1.]\n",
      " [3. 4. 0.]\n",
      " [4. 6. 9.]]\n"
     ]
    }
   ],
   "source": [
    "A = [[2,3,4],[5,4,6],[1,0,9]]\n",
    "A = np.array(A)\n",
    "\n",
    "def Mtrans(A):\n",
    "    if (A.shape[0] == A.shape[1]):\n",
    "\n",
    "        C = np.zeros(A.shape)\n",
    "        \n",
    "        for i in range(0,A.shape[0]):\n",
    "            for j in range(0,A.shape[1]):\n",
    "                C[i][j] = A[j][i]\n",
    "        return C\n",
    "    \n",
    "print(A)\n",
    "print(\"\")\n",
    "print(Mtrans(A))    "
   ]
  },
  {
   "cell_type": "code",
   "execution_count": 59,
   "metadata": {},
   "outputs": [
    {
     "name": "stdout",
     "output_type": "stream",
     "text": [
      "[[2 3 4]\n",
      " [5 4 6]\n",
      " [1 0 9]]\n",
      "\n",
      "15\n"
     ]
    }
   ],
   "source": [
    "def Mtraz(A):\n",
    "    if (A.shape[0] == A.shape[1]):\n",
    "        sum = 0\n",
    "        for i in range(0,A.shape[0]):\n",
    "            sum += A[i][i]\n",
    "        return sum\n",
    "\n",
    "print(A)\n",
    "print(\"\")\n",
    "print(Mtraz(A))     "
   ]
  },
  {
   "cell_type": "code",
   "execution_count": 61,
   "metadata": {},
   "outputs": [],
   "source": [
    "def DetCuad(A):\n",
    "     if (A.shape[0] == A.shape[1]):\n",
    "            D = A[0][0]*A[1][1]-A[0][1]*A[1][0]\n",
    "            return D"
   ]
  },
  {
   "cell_type": "code",
   "execution_count": null,
   "metadata": {},
   "outputs": [],
   "source": []
  },
  {
   "cell_type": "code",
   "execution_count": null,
   "metadata": {},
   "outputs": [],
   "source": []
  }
 ],
 "metadata": {
  "kernelspec": {
   "display_name": "Python 3",
   "language": "python",
   "name": "python3"
  },
  "language_info": {
   "codemirror_mode": {
    "name": "ipython",
    "version": 3
   },
   "file_extension": ".py",
   "mimetype": "text/x-python",
   "name": "python",
   "nbconvert_exporter": "python",
   "pygments_lexer": "ipython3",
   "version": "3.6.6"
  }
 },
 "nbformat": 4,
 "nbformat_minor": 2
}
